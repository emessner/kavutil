{
 "cells": [
  {
   "cell_type": "code",
   "execution_count": 7,
   "metadata": {},
   "outputs": [],
   "source": [
    "import kavutil as ku"
   ]
  },
  {
   "cell_type": "code",
   "execution_count": 5,
   "metadata": {
    "collapsed": true
   },
   "outputs": [],
   "source": [
    "liste1 = ['Sonne', 'Regen', 'Schnee', 'Sonne', 'Sonne', 'Hagel', 'Regen', 'Regen', 'Sonne', 'Schnee', 'Sonne', 'Schnee']\n",
    "liste2 = [['Sonne', 'Regen', 'Schnee', 'Sonne'], ['Sonne', 'Hagel'], ['Regen', 'Regen', 'Sonne', 'Schnee', 'Sonne', 'Schnee']]"
   ]
  },
  {
   "cell_type": "code",
   "execution_count": 8,
   "metadata": {},
   "outputs": [
    {
     "name": "stdout",
     "output_type": "stream",
     "text": [
      "    Words  Counts   Percent\n",
      "0   Sonne       5  0.416667\n",
      "1   Regen       3  0.250000\n",
      "2  Schnee       3  0.250000\n",
      "3   Hagel       1  0.083333\n"
     ]
    }
   ],
   "source": [
    "x = ku.count_words(liste1)\n",
    "print(x)"
   ]
  },
  {
   "cell_type": "code",
   "execution_count": 9,
   "metadata": {},
   "outputs": [
    {
     "name": "stdout",
     "output_type": "stream",
     "text": [
      "Your list contains several list. Use a single list with strings as input to the function\n",
      "None\n"
     ]
    }
   ],
   "source": [
    "x = ku.count_words(liste2)\n",
    "print(x)"
   ]
  },
  {
   "cell_type": "code",
   "execution_count": null,
   "metadata": {
    "collapsed": true
   },
   "outputs": [],
   "source": []
  }
 ],
 "metadata": {
  "kernelspec": {
   "display_name": "Python 3",
   "language": "python",
   "name": "python3"
  },
  "language_info": {
   "codemirror_mode": {
    "name": "ipython",
    "version": 3
   },
   "file_extension": ".py",
   "mimetype": "text/x-python",
   "name": "python",
   "nbconvert_exporter": "python",
   "pygments_lexer": "ipython3",
   "version": "3.6.0"
  }
 },
 "nbformat": 4,
 "nbformat_minor": 2
}
